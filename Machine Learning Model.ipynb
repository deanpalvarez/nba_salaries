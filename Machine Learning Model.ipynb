{
 "cells": [
  {
   "cell_type": "markdown",
   "metadata": {},
   "source": [
    "# Project Overview"
   ]
  },
  {
   "cell_type": "markdown",
   "metadata": {},
   "source": [
    "The question we will be hoping to answer is: “Can we predict a player’s salary based on their NBA statistics?” \n",
    "In this project, the player stats will be our features and the salary will be the output/target."
   ]
  },
  {
   "cell_type": "markdown",
   "metadata": {},
   "source": [
    "# Imports"
   ]
  },
  {
   "cell_type": "code",
   "execution_count": 1,
   "metadata": {},
   "outputs": [],
   "source": [
    "# import dependencies \n",
    "import pandas as pd\n",
    "from pathlib import Path\n",
    "import matplotlib.pyplot as plt\n",
    "# sklearn is the Scikit-learn machine learning library for Python. \n",
    "# It has many modules, including one for linear regression, which we use here as our model\n",
    "# We will use linear regression since we are trying to predict an outcome (i.e. salary) based on an input(s) (i.e. points)\n",
    "from sklearn.linear_model import LinearRegression "
   ]
  },
  {
   "cell_type": "code",
   "execution_count": 2,
   "metadata": {},
   "outputs": [
    {
     "data": {
      "text/html": [
       "<div>\n",
       "<style scoped>\n",
       "    .dataframe tbody tr th:only-of-type {\n",
       "        vertical-align: middle;\n",
       "    }\n",
       "\n",
       "    .dataframe tbody tr th {\n",
       "        vertical-align: top;\n",
       "    }\n",
       "\n",
       "    .dataframe thead th {\n",
       "        text-align: right;\n",
       "    }\n",
       "</style>\n",
       "<table border=\"1\" class=\"dataframe\">\n",
       "  <thead>\n",
       "    <tr style=\"text-align: right;\">\n",
       "      <th></th>\n",
       "      <th>Player ID</th>\n",
       "      <th>Player Name</th>\n",
       "      <th>year/season</th>\n",
       "      <th>position</th>\n",
       "      <th>Team</th>\n",
       "      <th>height</th>\n",
       "      <th>weight</th>\n",
       "      <th>G</th>\n",
       "      <th>GS</th>\n",
       "      <th>MP</th>\n",
       "      <th>...</th>\n",
       "      <th>ORB</th>\n",
       "      <th>DRB</th>\n",
       "      <th>TRB</th>\n",
       "      <th>AST</th>\n",
       "      <th>STL</th>\n",
       "      <th>BLK</th>\n",
       "      <th>TOV</th>\n",
       "      <th>PF</th>\n",
       "      <th>PTS</th>\n",
       "      <th>Salary</th>\n",
       "    </tr>\n",
       "  </thead>\n",
       "  <tbody>\n",
       "    <tr>\n",
       "      <th>0</th>\n",
       "      <td>1</td>\n",
       "      <td>Curly Armstrong</td>\n",
       "      <td>2019</td>\n",
       "      <td>G-F</td>\n",
       "      <td>FTW</td>\n",
       "      <td>202</td>\n",
       "      <td>186</td>\n",
       "      <td>63</td>\n",
       "      <td>63</td>\n",
       "      <td>31</td>\n",
       "      <td>...</td>\n",
       "      <td>336</td>\n",
       "      <td>394</td>\n",
       "      <td>424</td>\n",
       "      <td>176</td>\n",
       "      <td>293</td>\n",
       "      <td>342</td>\n",
       "      <td>285</td>\n",
       "      <td>217</td>\n",
       "      <td>458</td>\n",
       "      <td>4247104</td>\n",
       "    </tr>\n",
       "    <tr>\n",
       "      <th>1</th>\n",
       "      <td>2</td>\n",
       "      <td>Cliff Barker</td>\n",
       "      <td>2008</td>\n",
       "      <td>SG</td>\n",
       "      <td>INO</td>\n",
       "      <td>213</td>\n",
       "      <td>186</td>\n",
       "      <td>49</td>\n",
       "      <td>49</td>\n",
       "      <td>44</td>\n",
       "      <td>...</td>\n",
       "      <td>405</td>\n",
       "      <td>434</td>\n",
       "      <td>308</td>\n",
       "      <td>109</td>\n",
       "      <td>498</td>\n",
       "      <td>370</td>\n",
       "      <td>378</td>\n",
       "      <td>99</td>\n",
       "      <td>279</td>\n",
       "      <td>6745718</td>\n",
       "    </tr>\n",
       "    <tr>\n",
       "      <th>2</th>\n",
       "      <td>3</td>\n",
       "      <td>Leo Barnhorst</td>\n",
       "      <td>1958</td>\n",
       "      <td>SF</td>\n",
       "      <td>CHS</td>\n",
       "      <td>191</td>\n",
       "      <td>190</td>\n",
       "      <td>67</td>\n",
       "      <td>67</td>\n",
       "      <td>24</td>\n",
       "      <td>...</td>\n",
       "      <td>287</td>\n",
       "      <td>350</td>\n",
       "      <td>336</td>\n",
       "      <td>140</td>\n",
       "      <td>385</td>\n",
       "      <td>348</td>\n",
       "      <td>479</td>\n",
       "      <td>192</td>\n",
       "      <td>438</td>\n",
       "      <td>4989455</td>\n",
       "    </tr>\n",
       "    <tr>\n",
       "      <th>3</th>\n",
       "      <td>4</td>\n",
       "      <td>Ed Bartels</td>\n",
       "      <td>1968</td>\n",
       "      <td>F</td>\n",
       "      <td>TOT</td>\n",
       "      <td>201</td>\n",
       "      <td>184</td>\n",
       "      <td>15</td>\n",
       "      <td>15</td>\n",
       "      <td>47</td>\n",
       "      <td>...</td>\n",
       "      <td>496</td>\n",
       "      <td>458</td>\n",
       "      <td>283</td>\n",
       "      <td>20</td>\n",
       "      <td>478</td>\n",
       "      <td>470</td>\n",
       "      <td>487</td>\n",
       "      <td>29</td>\n",
       "      <td>63</td>\n",
       "      <td>34782463</td>\n",
       "    </tr>\n",
       "    <tr>\n",
       "      <th>4</th>\n",
       "      <td>5</td>\n",
       "      <td>Ed Bartels</td>\n",
       "      <td>1988</td>\n",
       "      <td>F</td>\n",
       "      <td>DNN</td>\n",
       "      <td>209</td>\n",
       "      <td>183</td>\n",
       "      <td>13</td>\n",
       "      <td>13</td>\n",
       "      <td>28</td>\n",
       "      <td>...</td>\n",
       "      <td>415</td>\n",
       "      <td>398</td>\n",
       "      <td>405</td>\n",
       "      <td>20</td>\n",
       "      <td>364</td>\n",
       "      <td>333</td>\n",
       "      <td>257</td>\n",
       "      <td>27</td>\n",
       "      <td>59</td>\n",
       "      <td>11186029</td>\n",
       "    </tr>\n",
       "    <tr>\n",
       "      <th>5</th>\n",
       "      <td>6</td>\n",
       "      <td>Ed Bartels</td>\n",
       "      <td>1987</td>\n",
       "      <td>F</td>\n",
       "      <td>NYK</td>\n",
       "      <td>190</td>\n",
       "      <td>192</td>\n",
       "      <td>2</td>\n",
       "      <td>2</td>\n",
       "      <td>40</td>\n",
       "      <td>...</td>\n",
       "      <td>481</td>\n",
       "      <td>431</td>\n",
       "      <td>418</td>\n",
       "      <td>0</td>\n",
       "      <td>454</td>\n",
       "      <td>445</td>\n",
       "      <td>289</td>\n",
       "      <td>2</td>\n",
       "      <td>4</td>\n",
       "      <td>11777042</td>\n",
       "    </tr>\n",
       "    <tr>\n",
       "      <th>6</th>\n",
       "      <td>7</td>\n",
       "      <td>Ralph Beard</td>\n",
       "      <td>1980</td>\n",
       "      <td>G</td>\n",
       "      <td>INO</td>\n",
       "      <td>212</td>\n",
       "      <td>194</td>\n",
       "      <td>60</td>\n",
       "      <td>60</td>\n",
       "      <td>35</td>\n",
       "      <td>...</td>\n",
       "      <td>476</td>\n",
       "      <td>317</td>\n",
       "      <td>468</td>\n",
       "      <td>233</td>\n",
       "      <td>335</td>\n",
       "      <td>300</td>\n",
       "      <td>351</td>\n",
       "      <td>132</td>\n",
       "      <td>895</td>\n",
       "      <td>28316570</td>\n",
       "    </tr>\n",
       "    <tr>\n",
       "      <th>7</th>\n",
       "      <td>8</td>\n",
       "      <td>Gene Berce</td>\n",
       "      <td>2002</td>\n",
       "      <td>G-F</td>\n",
       "      <td>TRI</td>\n",
       "      <td>207</td>\n",
       "      <td>214</td>\n",
       "      <td>3</td>\n",
       "      <td>3</td>\n",
       "      <td>35</td>\n",
       "      <td>...</td>\n",
       "      <td>472</td>\n",
       "      <td>250</td>\n",
       "      <td>347</td>\n",
       "      <td>2</td>\n",
       "      <td>353</td>\n",
       "      <td>393</td>\n",
       "      <td>430</td>\n",
       "      <td>6</td>\n",
       "      <td>10</td>\n",
       "      <td>6970265</td>\n",
       "    </tr>\n",
       "    <tr>\n",
       "      <th>8</th>\n",
       "      <td>9</td>\n",
       "      <td>Charlie Black</td>\n",
       "      <td>1956</td>\n",
       "      <td>F-C</td>\n",
       "      <td>TOT</td>\n",
       "      <td>189</td>\n",
       "      <td>214</td>\n",
       "      <td>65</td>\n",
       "      <td>65</td>\n",
       "      <td>31</td>\n",
       "      <td>...</td>\n",
       "      <td>373</td>\n",
       "      <td>427</td>\n",
       "      <td>264</td>\n",
       "      <td>163</td>\n",
       "      <td>479</td>\n",
       "      <td>281</td>\n",
       "      <td>367</td>\n",
       "      <td>273</td>\n",
       "      <td>661</td>\n",
       "      <td>24046693</td>\n",
       "    </tr>\n",
       "  </tbody>\n",
       "</table>\n",
       "<p>9 rows × 39 columns</p>\n",
       "</div>"
      ],
      "text/plain": [
       "   Player ID      Player Name  year/season position Team  height  weight   G  \\\n",
       "0          1  Curly Armstrong         2019      G-F  FTW     202     186  63   \n",
       "1          2     Cliff Barker         2008       SG  INO     213     186  49   \n",
       "2          3    Leo Barnhorst         1958       SF  CHS     191     190  67   \n",
       "3          4       Ed Bartels         1968        F  TOT     201     184  15   \n",
       "4          5       Ed Bartels         1988        F  DNN     209     183  13   \n",
       "5          6       Ed Bartels         1987        F  NYK     190     192   2   \n",
       "6          7      Ralph Beard         1980        G  INO     212     194  60   \n",
       "7          8       Gene Berce         2002      G-F  TRI     207     214   3   \n",
       "8          9    Charlie Black         1956      F-C  TOT     189     214  65   \n",
       "\n",
       "   GS  MP  ...  ORB  DRB  TRB  AST  STL  BLK  TOV   PF  PTS    Salary  \n",
       "0  63  31  ...  336  394  424  176  293  342  285  217  458   4247104  \n",
       "1  49  44  ...  405  434  308  109  498  370  378   99  279   6745718  \n",
       "2  67  24  ...  287  350  336  140  385  348  479  192  438   4989455  \n",
       "3  15  47  ...  496  458  283   20  478  470  487   29   63  34782463  \n",
       "4  13  28  ...  415  398  405   20  364  333  257   27   59  11186029  \n",
       "5   2  40  ...  481  431  418    0  454  445  289    2    4  11777042  \n",
       "6  60  35  ...  476  317  468  233  335  300  351  132  895  28316570  \n",
       "7   3  35  ...  472  250  347    2  353  393  430    6   10   6970265  \n",
       "8  65  31  ...  373  427  264  163  479  281  367  273  661  24046693  \n",
       "\n",
       "[9 rows x 39 columns]"
      ]
     },
     "execution_count": 2,
     "metadata": {},
     "output_type": "execute_result"
    }
   ],
   "source": [
    "# Our datasets currently contain data on NBA players and their season stats. \n",
    "# The data contains information such as their biography (i.e. name, height, weight, date of birth, birth city, birth state) \n",
    "    # as well as their NBA player statistics (i.e. position, points, assists, steals, shooting %s, etc.)\n",
    "\n",
    "# This CSV was prepared and is how we anticipate our final dataset to look like/be structured \n",
    "    # like after we merge our various datasets\n",
    "# We anticipate that the actual figures/data may be represented differently once they are cleaned/scaled \n",
    "# We also may be changing the various statistics (i.e. Pts, Asts, Stls, etc.) based on which statistic we want to include \n",
    "\n",
    "# load in our dataset and preview it \n",
    "df = pd.read_csv(Path('Sample_Data.csv'))\n",
    "df\n"
   ]
  },
  {
   "cell_type": "markdown",
   "metadata": {},
   "source": [
    "# Prepare the Model"
   ]
  },
  {
   "cell_type": "code",
   "execution_count": 3,
   "metadata": {},
   "outputs": [
    {
     "data": {
      "image/png": "[encoded data removed]",
      "text/plain": [
       "<Figure size 432x288 with 1 Axes>"
      ]
     },
     "metadata": {
      "needs_background": "light"
     },
     "output_type": "display_data"
    }
   ],
   "source": [
    "# The goal of this regression is to predict salary based on the various player statistics \n",
    "# We can start by creating a visualization and comparing one of the statistics to see if there is a relationship\n",
    "# We will start with points as an example\n",
    "plt.scatter(df.PTS, df.Salary)\n",
    "plt.xlabel('Points in a Season')\n",
    "plt.ylabel('Salary in USD')\n",
    "plt.show()"
   ]
  },
  {
   "cell_type": "code",
   "execution_count": 4,
   "metadata": {},
   "outputs": [],
   "source": [
    "# The next line of code formats the data to meet the requirements of the Scikit-learn library\n",
    "# The first argument of reshape() specifies the number of rows; -1 means unspecified or automatically find out\n",
    "# The second argument of reshape() refers to the number of columns; 1 means one column of independent variables \n",
    "X = df.PTS.values.reshape(-1, 1)"
   ]
  },
  {
   "cell_type": "code",
   "execution_count": 5,
   "metadata": {},
   "outputs": [
    {
     "data": {
      "text/plain": [
       "array([[458],\n",
       "       [279],\n",
       "       [438],\n",
       "       [ 63],\n",
       "       [ 59],\n",
       "       [  4],\n",
       "       [895],\n",
       "       [ 10],\n",
       "       [661]], dtype=int64)"
      ]
     },
     "execution_count": 5,
     "metadata": {},
     "output_type": "execute_result"
    }
   ],
   "source": [
    "# We can see that an array is created for our x values which holds the points scored in the season\n",
    "X[:9]"
   ]
  },
  {
   "cell_type": "code",
   "execution_count": 6,
   "metadata": {},
   "outputs": [
    {
     "data": {
      "text/plain": [
       "(9, 1)"
      ]
     },
     "execution_count": 6,
     "metadata": {},
     "output_type": "execute_result"
    }
   ],
   "source": [
    "# When we examine the shape of X, we see that there are 9 rows and 1 column for our sample data\n",
    "# This represents the 9 rows of sample data and the 1 column for their points in a season\n",
    "X.shape"
   ]
  },
  {
   "cell_type": "code",
   "execution_count": 7,
   "metadata": {},
   "outputs": [],
   "source": [
    "# Next, we assign the target variable, or the Salary column, to y \n",
    "# (Scikit-learn suggested convention is to capatialze X but not y)\n",
    "y = df.Salary"
   ]
  },
  {
   "cell_type": "code",
   "execution_count": 8,
   "metadata": {},
   "outputs": [],
   "source": [
    "# This creates an object from the LinearRegression class which acts as template that has the algorithms required \n",
    "    # to perform linear regression\n",
    "model = LinearRegression()"
   ]
  },
  {
   "cell_type": "markdown",
   "metadata": {},
   "source": [
    "# Fit the Model"
   ]
  },
  {
   "cell_type": "code",
   "execution_count": 9,
   "metadata": {},
   "outputs": [
    {
     "data": {
      "text/plain": [
       "LinearRegression()"
      ]
     },
     "execution_count": 9,
     "metadata": {},
     "output_type": "execute_result"
    }
   ],
   "source": [
    "# We will fit the model after it is instantiated, and it will analyze the data and attempt to learn patterns in the data\n",
    "model.fit(X, y)"
   ]
  },
  {
   "cell_type": "code",
   "execution_count": 10,
   "metadata": {},
   "outputs": [
    {
     "name": "stdout",
     "output_type": "stream",
     "text": [
      "(9,)\n"
     ]
    }
   ],
   "source": [
    "# After the learning stage, the predict() method is used to generate predictions (i.e. predict salary based on PTs in a season)\n",
    "y_pred = model.predict(X)\n",
    "# we can see that the shape of y matches x because there is a prediction made for each x (i.e. points) now\n",
    "print(y_pred.shape)"
   ]
  },
  {
   "cell_type": "code",
   "execution_count": 11,
   "metadata": {},
   "outputs": [
    {
     "data": {
      "image/png": "[encoded data removed]",
      "text/plain": [
       "<Figure size 432x288 with 1 Axes>"
      ]
     },
     "metadata": {
      "needs_background": "light"
     },
     "output_type": "display_data"
    },
    {
     "name": "stdout",
     "output_type": "stream",
     "text": [
      "[9648.66564252]\n",
      "11710957.178098716\n"
     ]
    }
   ],
   "source": [
    "# We will plot the predictions as a red line against the data points\n",
    "plt.scatter(X, y)\n",
    "plt.plot(X, y_pred, color='red')\n",
    "plt.show()\n",
    "\n",
    "# Then print the slope and the y-intercept to determine if there is a relationship\n",
    "print(model.coef_)\n",
    "print(model.intercept_)"
   ]
  },
  {
   "cell_type": "code",
   "execution_count": null,
   "metadata": {},
   "outputs": [],
   "source": []
  }
 ],
 "metadata": {
  "kernelspec": {
   "display_name": "base",
   "language": "python",
   "name": "base"
  },
  "language_info": {
   "codemirror_mode": {
    "name": "ipython",
    "version": 3
   },
   "file_extension": ".py",
   "mimetype": "text/x-python",
   "name": "python",
   "nbconvert_exporter": "python",
   "pygments_lexer": "ipython3",
   "version": "3.8.5"
  }
 },
 "nbformat": 4,
 "nbformat_minor": 4
}
